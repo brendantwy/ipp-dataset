{
 "cells": [
  {
   "cell_type": "code",
   "execution_count": 1,
   "id": "3124b09f",
   "metadata": {},
   "outputs": [],
   "source": [
    "from prisma import Prisma\n",
    "import pandas as pd\n",
    "from datetime import datetime\n",
    "import json\n",
    "\n",
    "db = Prisma()\n",
    "await db.connect()"
   ]
  },
  {
   "cell_type": "code",
   "execution_count": 2,
   "id": "eb0d0714",
   "metadata": {},
   "outputs": [],
   "source": [
    "from pymongo import MongoClient\n",
    "\n",
    "# Provide the mongodb atlas url to connect python to mongodb using pymongo\n",
    "CONNECTION_STRING = \"mongodb://localhost:27017\"\n",
    "\n",
    "# Create a connection using MongoClient. You can import MongoClient or use pymongo.MongoClient\n",
    "client = MongoClient(CONNECTION_STRING)\n",
    "\n",
    "# Create the database for our example (we will use the same database throughout the tutorial\n",
    "mongo_db = client[\"eezeeDb\"]\n",
    "\n",
    "product_collection = mongo_db[\"products\"]\n",
    "\n",
    "category_colletion = mongo_db[\"categories\"]"
   ]
  },
  {
   "cell_type": "code",
   "execution_count": 3,
   "id": "ab21ffe6",
   "metadata": {},
   "outputs": [],
   "source": [
    "stats = {}"
   ]
  },
  {
   "cell_type": "code",
   "execution_count": 4,
   "id": "9ef0de11",
   "metadata": {},
   "outputs": [
    {
     "data": {
      "text/plain": [
       "{'all_items_count': 354945}"
      ]
     },
     "execution_count": 4,
     "metadata": {},
     "output_type": "execute_result"
    }
   ],
   "source": [
    "all_items_count = await db.item.count(\n",
    "    where={\n",
    "        \"deleted\": False,\n",
    "        \"baseCurrency\": \"SGD\",\n",
    "        \"isHiddenFromSearchEngine\": False\n",
    "    }\n",
    ")\n",
    "stats[\"all_items_count\"] = all_items_count\n",
    "stats"
   ]
  },
  {
   "cell_type": "code",
   "execution_count": 5,
   "id": "88f6ee5f",
   "metadata": {},
   "outputs": [],
   "source": [
    "cte_query = \"\"\"\n",
    "WITH spec AS (\n",
    "    select \n",
    "        itemspec.*,\n",
    "        specheader.id as \"itemCategorySpecHeaderId\",\n",
    "        specheader.*\n",
    "    from \"ItemSpecification\" itemspec\n",
    "    join \"ItemCategorySpecHeader\" specheader on itemspec.\"itemCategorySpecHeaderId\" = specheader.id\n",
    ")\n",
    "\"\"\""
   ]
  },
  {
   "cell_type": "code",
   "execution_count": 6,
   "id": "39b74bf0",
   "metadata": {},
   "outputs": [
    {
     "data": {
      "text/plain": [
       "{'all_items_count': 354945,\n",
       " 'product_specification': {'products_w_specification_count': 158385,\n",
       "  'specs_coverage': 44.62240628829819,\n",
       "  'distinct_specifications': 3776}}"
      ]
     },
     "execution_count": 6,
     "metadata": {},
     "output_type": "execute_result"
    }
   ],
   "source": [
    "items_w_specs_query = \"\"\"\n",
    "    select \n",
    "        COUNT(DISTINCT item.id) AS \"itemWithSpecsCount\"\n",
    "    from \"Item\" item\n",
    "    join spec on spec.\"itemId\" = item.id and item.\"subCat\" = spec.\"itemCategoryTitleUrl\"\n",
    "    where 1=1\n",
    "    and item.deleted = false\n",
    "    and item.\"baseCurrency\" = 'SGD'\n",
    "    and item.\"isHiddenFromSearchEngine\" = false\n",
    "    \"\"\"\n",
    "items_with_specs_count = await db.query_raw(query=cte_query+items_w_specs_query)\n",
    "\n",
    "stats[\"product_specification\"] = {\"products_w_specification_count\": items_with_specs_count[0][\"itemWithSpecsCount\"]}\n",
    "stats[\"product_specification\"][\"specs_coverage\"] = (items_with_specs_count[0][\"itemWithSpecsCount\"] / all_items_count) * 100\n",
    "\n",
    "distinct_specs = \"\"\"\n",
    "    select \n",
    "        COUNT(DISTINCT spec.\"nameKebabCase\") AS \"distinctSpecs\"\n",
    "    from \"Item\" item\n",
    "    join spec on spec.\"itemId\" = item.id and item.\"subCat\" = spec.\"itemCategoryTitleUrl\"\n",
    "    where 1=1\n",
    "    and item.deleted = false\n",
    "    and item.\"baseCurrency\" = 'SGD'\n",
    "    and item.\"isHiddenFromSearchEngine\" = false\n",
    "\"\"\"\n",
    "response = await db.query_raw(query=cte_query+distinct_specs)\n",
    "stats[\"product_specification\"][\"distinct_specifications\"] = response[0][\"distinctSpecs\"]\n",
    "stats"
   ]
  },
  {
   "cell_type": "code",
   "execution_count": 7,
   "id": "24fa767c",
   "metadata": {},
   "outputs": [
    {
     "data": {
      "text/plain": [
       "{'all_items_count': 354945,\n",
       " 'product_specification': {'products_w_specification_count': 158385,\n",
       "  'specs_coverage': 44.62240628829819,\n",
       "  'distinct_specifications': 3776},\n",
       " 'brand': {'products_w_brand_count': 354944,\n",
       "  'distinct_brands': 3105,\n",
       "  'brand_coverage': 99}}"
      ]
     },
     "execution_count": 7,
     "metadata": {},
     "output_type": "execute_result"
    }
   ],
   "source": [
    "items_w_brand = await db.item.count(\n",
    "    where={\n",
    "        \"deleted\": False,\n",
    "        \"baseCurrency\": \"SGD\",\n",
    "        \"isHiddenFromSearchEngine\": False,\n",
    "        \"brand\": {\n",
    "            \"not\": \"\",\n",
    "        }\n",
    "    }\n",
    ")\n",
    "\n",
    "stats[\"brand\"] = {\"products_w_brand_count\": items_w_brand}\n",
    "\n",
    "distinct_brands = await db.query_raw(query=\"\"\"\n",
    "SELECT COUNT(DISTINCT item.brand) AS \"unique_brand_count\"\n",
    "from \"Item\" item\n",
    "where 1=1\n",
    "    and item.deleted = false\n",
    "    and item.\"baseCurrency\" = 'SGD'\n",
    "    and item.\"isHiddenFromSearchEngine\" = false\n",
    "\"\"\")\n",
    "stats[\"brand\"][\"distinct_brands\"] = distinct_brands[0][\"unique_brand_count\"]\n",
    "stats[\"brand\"][\"brand_coverage\"] = int((items_w_brand/all_items_count) * 100)\n",
    "\n",
    "stats"
   ]
  },
  {
   "cell_type": "code",
   "execution_count": 8,
   "id": "82d43345",
   "metadata": {},
   "outputs": [
    {
     "data": {
      "text/plain": [
       "{'all_items_count': 354945,\n",
       " 'product_specification': {'products_w_specification_count': 158385,\n",
       "  'specs_coverage': 44.62240628829819,\n",
       "  'distinct_specifications': 3776},\n",
       " 'brand': {'products_w_brand_count': 354944,\n",
       "  'distinct_brands': 3105,\n",
       "  'brand_coverage': 99},\n",
       " 'model_number': {'products_w_model_number_count': 354945,\n",
       "  'model_number_coverage': 100}}"
      ]
     },
     "execution_count": 8,
     "metadata": {},
     "output_type": "execute_result"
    }
   ],
   "source": [
    "items_w_model_number = await db.item.count(\n",
    "    where={\n",
    "        \"deleted\": False,\n",
    "        \"baseCurrency\": \"SGD\",\n",
    "        \"isHiddenFromSearchEngine\": False,\n",
    "        \"modelNumber\": {\n",
    "            \"not\": \"\"\n",
    "        }\n",
    "    }\n",
    ")\n",
    "stats[\"model_number\"] = {\"products_w_model_number_count\": items_w_model_number}\n",
    "\n",
    "stats[\"model_number\"][\"model_number_coverage\"] = int((items_w_model_number/all_items_count) * 100)\n",
    "\n",
    "stats\n"
   ]
  },
  {
   "cell_type": "code",
   "execution_count": 9,
   "id": "5671172e",
   "metadata": {},
   "outputs": [
    {
     "data": {
      "text/plain": [
       "{'all_items_count': 354945,\n",
       " 'product_specification': {'products_w_specification_count': 158385,\n",
       "  'specs_coverage': 44.62240628829819,\n",
       "  'distinct_specifications': 3776},\n",
       " 'brand': {'products_w_brand_count': 354944,\n",
       "  'distinct_brands': 3105,\n",
       "  'brand_coverage': 99},\n",
       " 'model_number': {'products_w_model_number_count': 354945,\n",
       "  'model_number_coverage': 100},\n",
       " 'category': {'products_w_category_count': 354945,\n",
       "  'category_coverage': 100,\n",
       "  'distinct_categories': 1465}}"
      ]
     },
     "execution_count": 9,
     "metadata": {},
     "output_type": "execute_result"
    }
   ],
   "source": [
    "items_w_category = await db.item.count(\n",
    "    where={\n",
    "        \"deleted\": False,\n",
    "        \"baseCurrency\": \"SGD\",\n",
    "        \"isHiddenFromSearchEngine\": False,\n",
    "        \"subCat\": {\n",
    "            \"not\": \"\"\n",
    "        }\n",
    "    }\n",
    ")\n",
    "\n",
    "stats[\"category\"] = {\"products_w_category_count\": items_w_category}\n",
    "stats[\"category\"][\"category_coverage\"] = int((items_w_category/all_items_count) * 100)\n",
    "distinct_categories = await db.query_raw(query=\"\"\"\n",
    "SELECT COUNT(DISTINCT item.\"subCat\") AS \"distinct_cat_count\"\n",
    "from \"Item\" item\n",
    "where 1=1\n",
    "    and item.deleted = false\n",
    "    and item.\"baseCurrency\" = 'SGD'\n",
    "    and item.\"isHiddenFromSearchEngine\" = false\n",
    "\"\"\")\n",
    "stats[\"category\"][\"distinct_categories\"] = distinct_categories[0][\"distinct_cat_count\"]\n",
    "\n",
    "\n",
    "stats"
   ]
  },
  {
   "cell_type": "code",
   "execution_count": 10,
   "id": "57b43b5e",
   "metadata": {},
   "outputs": [
    {
     "name": "stdout",
     "output_type": "stream",
     "text": [
      "{\n",
      "  \"all_items_count\": 354945,\n",
      "  \"product_specification\": {\n",
      "    \"products_w_specification_count\": 158385,\n",
      "    \"specs_coverage\": 44.62240628829819,\n",
      "    \"distinct_specifications\": 3776\n",
      "  },\n",
      "  \"brand\": {\n",
      "    \"products_w_brand_count\": 354944,\n",
      "    \"distinct_brands\": 3105,\n",
      "    \"brand_coverage\": 99\n",
      "  },\n",
      "  \"model_number\": {\n",
      "    \"products_w_model_number_count\": 354945,\n",
      "    \"model_number_coverage\": 100\n",
      "  },\n",
      "  \"category\": {\n",
      "    \"products_w_category_count\": 354945,\n",
      "    \"category_coverage\": 100,\n",
      "    \"distinct_categories\": 1465\n",
      "  }\n",
      "}\n"
     ]
    }
   ],
   "source": [
    "print(json.dumps(stats, indent=2))"
   ]
  },
  {
   "cell_type": "code",
   "execution_count": 11,
   "id": "7a1aad34",
   "metadata": {},
   "outputs": [],
   "source": [
    "sample_query = \"\"\"select \n",
    "    DISTINCT item.id\n",
    "from \"Item\" item\n",
    "join spec on spec.\"itemId\" = item.id and item.\"subCat\" = spec.\"itemCategoryTitleUrl\"\n",
    "where 1=1\n",
    "and item.deleted = false\n",
    "and item.\"baseCurrency\" = 'SGD'\n",
    "LIMIT 5\n",
    "\"\"\"\n",
    "\n",
    "response = await db.query_raw(query=cte_query+sample_query)\n",
    "item_ids = [item[\"id\"] for item in response]\n"
   ]
  },
  {
   "cell_type": "code",
   "execution_count": 12,
   "id": "12d42909",
   "metadata": {},
   "outputs": [],
   "source": [
    "items = await db.item.find_many(\n",
    "    where={\n",
    "        \"id\": {\n",
    "            \"in\": item_ids\n",
    "        }\n",
    "    },\n",
    "    include={\n",
    "        \"ItemCategory\": True,\n",
    "        \"ItemSpecifications\": {\n",
    "            \"include\": {\n",
    "                \"ItemCategorySpecHeader\": True\n",
    "            }\n",
    "        }\n",
    "    }\n",
    ")\n",
    "\n",
    "item_json = [item.model_dump() for item in items]\n"
   ]
  },
  {
   "cell_type": "code",
   "execution_count": 19,
   "id": "a249f6e6",
   "metadata": {},
   "outputs": [
    {
     "data": {
      "text/html": [
       "<div>\n",
       "<style scoped>\n",
       "    .dataframe tbody tr th:only-of-type {\n",
       "        vertical-align: middle;\n",
       "    }\n",
       "\n",
       "    .dataframe tbody tr th {\n",
       "        vertical-align: top;\n",
       "    }\n",
       "\n",
       "    .dataframe thead th {\n",
       "        text-align: right;\n",
       "    }\n",
       "</style>\n",
       "<table border=\"1\" class=\"dataframe\">\n",
       "  <thead>\n",
       "    <tr style=\"text-align: right;\">\n",
       "      <th></th>\n",
       "      <th>createdAt</th>\n",
       "      <th>id</th>\n",
       "      <th>title</th>\n",
       "      <th>brand</th>\n",
       "      <th>mainCat</th>\n",
       "      <th>baseCurrency</th>\n",
       "      <th>modelNumber</th>\n",
       "      <th>subCat</th>\n",
       "      <th>ItemSpecifications</th>\n",
       "      <th>ItemCategory</th>\n",
       "    </tr>\n",
       "  </thead>\n",
       "  <tbody>\n",
       "    <tr>\n",
       "      <th>0</th>\n",
       "      <td>2022-08-28 18:27:15.466000+00:00</td>\n",
       "      <td>59f75a869518e2289998f32f</td>\n",
       "      <td>ORING AS568 AS002 ID 1.07 X CS 1.27 Viton Fluo...</td>\n",
       "      <td>oem</td>\n",
       "      <td>mechanical-parts</td>\n",
       "      <td>SGD</td>\n",
       "      <td>ORING AS568 AS002 ID 1.07 X CS 1.27 Viton Fluo...</td>\n",
       "      <td>o-ring</td>\n",
       "      <td>[{'id': 2010631, 'createdAt': 2023-11-06 04:00...</td>\n",
       "      <td>{'createdAt': 2023-04-12 16:21:06.290000+00:00...</td>\n",
       "    </tr>\n",
       "    <tr>\n",
       "      <th>1</th>\n",
       "      <td>2022-08-28 18:27:15.466000+00:00</td>\n",
       "      <td>59f75af79518e2289998f342</td>\n",
       "      <td>ORING AS568 AS002 ID 1.07 X CS 1.27 Nitrile (N...</td>\n",
       "      <td>oem</td>\n",
       "      <td>mechanical-parts</td>\n",
       "      <td>SGD</td>\n",
       "      <td>ORING AS568 AS002 ID 1.07 X CS 1.27 Nitrile (N...</td>\n",
       "      <td>o-ring</td>\n",
       "      <td>[{'id': 1993425, 'createdAt': 2023-11-06 03:59...</td>\n",
       "      <td>{'createdAt': 2023-04-12 16:21:06.290000+00:00...</td>\n",
       "    </tr>\n",
       "    <tr>\n",
       "      <th>2</th>\n",
       "      <td>2022-08-28 18:27:15.466000+00:00</td>\n",
       "      <td>59f75b789518e2289998f35a</td>\n",
       "      <td>ORING AS568 AS002 ID 1.07 X CS 1.27 Nitrile (N...</td>\n",
       "      <td>oem</td>\n",
       "      <td>mechanical-parts</td>\n",
       "      <td>SGD</td>\n",
       "      <td>ORING AS568 AS002 ID 1.07 X CS 1.27 Nitrile (N...</td>\n",
       "      <td>o-ring</td>\n",
       "      <td>[{'id': 2002972, 'createdAt': 2023-11-06 03:59...</td>\n",
       "      <td>{'createdAt': 2023-04-12 16:21:06.290000+00:00...</td>\n",
       "    </tr>\n",
       "    <tr>\n",
       "      <th>3</th>\n",
       "      <td>2022-08-28 18:27:15.466000+00:00</td>\n",
       "      <td>59f75d2d9518e2289998f3ce</td>\n",
       "      <td>ORING AS568 AS002 ID 1.07 X CS 1.27 Ethylene P...</td>\n",
       "      <td>oem</td>\n",
       "      <td>mechanical-parts</td>\n",
       "      <td>SGD</td>\n",
       "      <td>ORING AS568 AS002 ID 1.07 X CS 1.27 Ethylene P...</td>\n",
       "      <td>o-ring</td>\n",
       "      <td>[{'id': 2022520, 'createdAt': 2023-11-06 04:00...</td>\n",
       "      <td>{'createdAt': 2023-04-12 16:21:06.290000+00:00...</td>\n",
       "    </tr>\n",
       "    <tr>\n",
       "      <th>4</th>\n",
       "      <td>2022-08-28 18:27:15.466000+00:00</td>\n",
       "      <td>59f75da29518e2289998f407</td>\n",
       "      <td>ORING AS568 AS002 ID 1.07 X CS 1.27 Silicone 7...</td>\n",
       "      <td>oem</td>\n",
       "      <td>mechanical-parts</td>\n",
       "      <td>SGD</td>\n",
       "      <td>ORING AS568 AS002 ID 1.07 X CS 1.27 Silicone 7...</td>\n",
       "      <td>o-ring</td>\n",
       "      <td>[{'id': 2010406, 'createdAt': 2023-11-06 04:00...</td>\n",
       "      <td>{'createdAt': 2023-04-12 16:21:06.290000+00:00...</td>\n",
       "    </tr>\n",
       "  </tbody>\n",
       "</table>\n",
       "</div>"
      ],
      "text/plain": [
       "                         createdAt                        id  \\\n",
       "0 2022-08-28 18:27:15.466000+00:00  59f75a869518e2289998f32f   \n",
       "1 2022-08-28 18:27:15.466000+00:00  59f75af79518e2289998f342   \n",
       "2 2022-08-28 18:27:15.466000+00:00  59f75b789518e2289998f35a   \n",
       "3 2022-08-28 18:27:15.466000+00:00  59f75d2d9518e2289998f3ce   \n",
       "4 2022-08-28 18:27:15.466000+00:00  59f75da29518e2289998f407   \n",
       "\n",
       "                                               title brand           mainCat  \\\n",
       "0  ORING AS568 AS002 ID 1.07 X CS 1.27 Viton Fluo...   oem  mechanical-parts   \n",
       "1  ORING AS568 AS002 ID 1.07 X CS 1.27 Nitrile (N...   oem  mechanical-parts   \n",
       "2  ORING AS568 AS002 ID 1.07 X CS 1.27 Nitrile (N...   oem  mechanical-parts   \n",
       "3  ORING AS568 AS002 ID 1.07 X CS 1.27 Ethylene P...   oem  mechanical-parts   \n",
       "4  ORING AS568 AS002 ID 1.07 X CS 1.27 Silicone 7...   oem  mechanical-parts   \n",
       "\n",
       "  baseCurrency                                        modelNumber  subCat  \\\n",
       "0          SGD  ORING AS568 AS002 ID 1.07 X CS 1.27 Viton Fluo...  o-ring   \n",
       "1          SGD  ORING AS568 AS002 ID 1.07 X CS 1.27 Nitrile (N...  o-ring   \n",
       "2          SGD  ORING AS568 AS002 ID 1.07 X CS 1.27 Nitrile (N...  o-ring   \n",
       "3          SGD  ORING AS568 AS002 ID 1.07 X CS 1.27 Ethylene P...  o-ring   \n",
       "4          SGD  ORING AS568 AS002 ID 1.07 X CS 1.27 Silicone 7...  o-ring   \n",
       "\n",
       "                                  ItemSpecifications  \\\n",
       "0  [{'id': 2010631, 'createdAt': 2023-11-06 04:00...   \n",
       "1  [{'id': 1993425, 'createdAt': 2023-11-06 03:59...   \n",
       "2  [{'id': 2002972, 'createdAt': 2023-11-06 03:59...   \n",
       "3  [{'id': 2022520, 'createdAt': 2023-11-06 04:00...   \n",
       "4  [{'id': 2010406, 'createdAt': 2023-11-06 04:00...   \n",
       "\n",
       "                                        ItemCategory  \n",
       "0  {'createdAt': 2023-04-12 16:21:06.290000+00:00...  \n",
       "1  {'createdAt': 2023-04-12 16:21:06.290000+00:00...  \n",
       "2  {'createdAt': 2023-04-12 16:21:06.290000+00:00...  \n",
       "3  {'createdAt': 2023-04-12 16:21:06.290000+00:00...  \n",
       "4  {'createdAt': 2023-04-12 16:21:06.290000+00:00...  "
      ]
     },
     "execution_count": 19,
     "metadata": {},
     "output_type": "execute_result"
    }
   ],
   "source": [
    "df = pd.DataFrame(item_json)\n",
    "df = df.drop([\"deleted\", \"sellerId\", \"updatedAt\", \"supplierSku\", \"isHiddenFromSearchEngine\", \"ItemInCatalogs\", \"sku\"], axis=1)\n",
    "df.head(5)"
   ]
  }
 ],
 "metadata": {
  "kernelspec": {
   "display_name": "venv",
   "language": "python",
   "name": "python3"
  },
  "language_info": {
   "codemirror_mode": {
    "name": "ipython",
    "version": 3
   },
   "file_extension": ".py",
   "mimetype": "text/x-python",
   "name": "python",
   "nbconvert_exporter": "python",
   "pygments_lexer": "ipython3",
   "version": "3.10.14"
  }
 },
 "nbformat": 4,
 "nbformat_minor": 5
}
