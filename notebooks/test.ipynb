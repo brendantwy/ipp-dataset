{
 "cells": [
  {
   "cell_type": "code",
   "execution_count": 1,
   "id": "3124b09f",
   "metadata": {},
   "outputs": [],
   "source": [
    "from prisma import Prisma\n",
    "import pandas as pd\n",
    "from datetime import datetime\n",
    "\n",
    "db = Prisma()\n",
    "await db.connect()"
   ]
  },
  {
   "cell_type": "code",
   "execution_count": 2,
   "id": "eb0d0714",
   "metadata": {},
   "outputs": [],
   "source": [
    "from pymongo import MongoClient\n",
    "\n",
    "# Provide the mongodb atlas url to connect python to mongodb using pymongo\n",
    "CONNECTION_STRING = \"mongodb://localhost:27017\"\n",
    "\n",
    "# Create a connection using MongoClient. You can import MongoClient or use pymongo.MongoClient\n",
    "client = MongoClient(CONNECTION_STRING)\n",
    "\n",
    "# Create the database for our example (we will use the same database throughout the tutorial\n",
    "mongo_db = client[\"eezeeDb\"]\n",
    "\n",
    "product_collection = mongo_db[\"products\"]\n",
    "\n",
    "category_colletion = mongo_db[\"categories\"]"
   ]
  },
  {
   "cell_type": "code",
   "execution_count": 3,
   "id": "ab21ffe6",
   "metadata": {},
   "outputs": [],
   "source": [
    "stats = {}"
   ]
  },
  {
   "cell_type": "code",
   "execution_count": 4,
   "id": "9ef0de11",
   "metadata": {},
   "outputs": [
    {
     "data": {
      "text/plain": [
       "{'all_items_count': 354945}"
      ]
     },
     "execution_count": 4,
     "metadata": {},
     "output_type": "execute_result"
    }
   ],
   "source": [
    "all_items_count = await db.item.count(\n",
    "    where={\n",
    "        \"deleted\": False,\n",
    "        \"baseCurrency\": \"SGD\",\n",
    "        \"isHiddenFromSearchEngine\": False\n",
    "    }\n",
    ")\n",
    "stats[\"all_items_count\"] = all_items_count\n",
    "stats"
   ]
  },
  {
   "cell_type": "code",
   "execution_count": 5,
   "id": "88f6ee5f",
   "metadata": {},
   "outputs": [],
   "source": [
    "cte_query = \"\"\"\n",
    "WITH spec AS (\n",
    "    select \n",
    "        itemspec.*,\n",
    "        specheader.id as \"itemCategorySpecHeaderId\",\n",
    "        specheader.*\n",
    "    from \"ItemSpecification\" itemspec\n",
    "    join \"ItemCategorySpecHeader\" specheader on itemspec.\"itemCategorySpecHeaderId\" = specheader.id\n",
    ")\n",
    "\"\"\""
   ]
  },
  {
   "cell_type": "code",
   "execution_count": 6,
   "id": "39b74bf0",
   "metadata": {},
   "outputs": [
    {
     "data": {
      "text/plain": [
       "{'all_items_count': 354945,\n",
       " 'product_specification': {'products_w_specification_count': 158385,\n",
       "  'specs_coverage': 44.62240628829819,\n",
       "  'distinct_specifications': 3776}}"
      ]
     },
     "execution_count": 6,
     "metadata": {},
     "output_type": "execute_result"
    }
   ],
   "source": [
    "items_w_specs_query = \"\"\"\n",
    "    select \n",
    "        COUNT(DISTINCT item.id) AS \"itemWithSpecsCount\"\n",
    "    from \"Item\" item\n",
    "    join spec on spec.\"itemId\" = item.id and item.\"subCat\" = spec.\"itemCategoryTitleUrl\"\n",
    "    where 1=1\n",
    "    and item.deleted = false\n",
    "    and item.\"baseCurrency\" = 'SGD'\n",
    "    and item.\"isHiddenFromSearchEngine\" = false\n",
    "    \"\"\"\n",
    "items_with_specs_count = await db.query_raw(query=cte_query+items_w_specs_query)\n",
    "\n",
    "stats[\"product_specification\"] = {\"products_w_specification_count\": items_with_specs_count[0][\"itemWithSpecsCount\"]}\n",
    "stats[\"product_specification\"][\"specs_coverage\"] = (items_with_specs_count[0][\"itemWithSpecsCount\"] / all_items_count) * 100\n",
    "\n",
    "distinct_specs = \"\"\"\n",
    "    select \n",
    "        COUNT(DISTINCT spec.\"nameKebabCase\") AS \"distinctSpecs\"\n",
    "    from \"Item\" item\n",
    "    join spec on spec.\"itemId\" = item.id and item.\"subCat\" = spec.\"itemCategoryTitleUrl\"\n",
    "    where 1=1\n",
    "    and item.deleted = false\n",
    "    and item.\"baseCurrency\" = 'SGD'\n",
    "    and item.\"isHiddenFromSearchEngine\" = false\n",
    "\"\"\"\n",
    "response = await db.query_raw(query=cte_query+distinct_specs)\n",
    "stats[\"product_specification\"][\"distinct_specifications\"] = response[0][\"distinctSpecs\"]\n",
    "stats"
   ]
  },
  {
   "cell_type": "code",
   "execution_count": 7,
   "id": "24fa767c",
   "metadata": {},
   "outputs": [
    {
     "data": {
      "text/plain": [
       "{'all_items_count': 354945,\n",
       " 'product_specification': {'products_w_specification_count': 158385,\n",
       "  'specs_coverage': 44.62240628829819,\n",
       "  'distinct_specifications': 3776},\n",
       " 'brand': {'products_w_brand_count': 354944,\n",
       "  'distinct_brands': 3105,\n",
       "  'brand_coverage': 99.99971826621025}}"
      ]
     },
     "execution_count": 7,
     "metadata": {},
     "output_type": "execute_result"
    }
   ],
   "source": [
    "items_w_brand = await db.item.count(\n",
    "    where={\n",
    "        \"deleted\": False,\n",
    "        \"baseCurrency\": \"SGD\",\n",
    "        \"isHiddenFromSearchEngine\": False,\n",
    "        \"brand\": {\n",
    "            \"not\": \"\",\n",
    "        }\n",
    "    }\n",
    ")\n",
    "\n",
    "stats[\"brand\"] = {\"products_w_brand_count\": items_w_brand}\n",
    "\n",
    "distinct_brands = await db.query_raw(query=\"\"\"\n",
    "SELECT COUNT(DISTINCT item.brand) AS \"unique_brand_count\"\n",
    "from \"Item\" item\n",
    "where 1=1\n",
    "    and item.deleted = false\n",
    "    and item.\"baseCurrency\" = 'SGD'\n",
    "    and item.\"isHiddenFromSearchEngine\" = false\n",
    "\"\"\")\n",
    "stats[\"brand\"][\"distinct_brands\"] = distinct_brands[0][\"unique_brand_count\"]\n",
    "stats[\"brand\"][\"brand_coverage\"] = (items_w_brand/all_items_count) * 100\n",
    "\n",
    "stats"
   ]
  },
  {
   "cell_type": "code",
   "execution_count": 8,
   "id": "82d43345",
   "metadata": {},
   "outputs": [
    {
     "data": {
      "text/plain": [
       "{'all_items_count': 354945,\n",
       " 'product_specification': {'products_w_specification_count': 158385,\n",
       "  'specs_coverage': 44.62240628829819,\n",
       "  'distinct_specifications': 3776},\n",
       " 'brand': {'products_w_brand_count': 354944,\n",
       "  'distinct_brands': 3105,\n",
       "  'brand_coverage': 99.99971826621025},\n",
       " 'model_number': {'products_w_model_number_count': 354945,\n",
       "  'model_number_coverage': 100.0}}"
      ]
     },
     "execution_count": 8,
     "metadata": {},
     "output_type": "execute_result"
    }
   ],
   "source": [
    "items_w_model_number = await db.item.count(\n",
    "    where={\n",
    "        \"deleted\": False,\n",
    "        \"baseCurrency\": \"SGD\",\n",
    "        \"isHiddenFromSearchEngine\": False,\n",
    "        \"modelNumber\": {\n",
    "            \"not\": \"\"\n",
    "        }\n",
    "    }\n",
    ")\n",
    "stats[\"model_number\"] = {\"products_w_model_number_count\": items_w_model_number}\n",
    "\n",
    "stats[\"model_number\"][\"model_number_coverage\"] = (items_w_model_number/all_items_count) * 100\n",
    "\n",
    "stats\n"
   ]
  },
  {
   "cell_type": "code",
   "execution_count": 12,
   "id": "5671172e",
   "metadata": {},
   "outputs": [
    {
     "data": {
      "text/plain": [
       "{'all_items_count': 354945,\n",
       " 'product_specification': {'products_w_specification_count': 158385,\n",
       "  'specs_coverage': 44.62240628829819,\n",
       "  'distinct_specifications': 3776},\n",
       " 'brand': {'products_w_brand_count': 354944,\n",
       "  'distinct_brands': 3105,\n",
       "  'brand_coverage': 99.99971826621025},\n",
       " 'model_number': {'products_w_model_number_count': 354945,\n",
       "  'model_number_coverage': 100.0},\n",
       " 'category': {'products_w_category_count': 354945,\n",
       "  'distinct_categories': 1465},\n",
       " 'category_coverage': 100.0}"
      ]
     },
     "execution_count": 12,
     "metadata": {},
     "output_type": "execute_result"
    }
   ],
   "source": [
    "items_w_category = await db.item.count(\n",
    "    where={\n",
    "        \"deleted\": False,\n",
    "        \"baseCurrency\": \"SGD\",\n",
    "        \"isHiddenFromSearchEngine\": False,\n",
    "        \"subCat\": {\n",
    "            \"not\": \"\"\n",
    "        }\n",
    "    }\n",
    ")\n",
    "\n",
    "stats[\"category\"] = {\"products_w_category_count\": items_w_category}\n",
    "stats[\"category_coverage\"] = (items_w_category/all_items_count) * 100\n",
    "distinct_categories = await db.query_raw(query=\"\"\"\n",
    "SELECT COUNT(DISTINCT item.\"subCat\") AS \"distinct_cat_count\"\n",
    "from \"Item\" item\n",
    "where 1=1\n",
    "    and item.deleted = false\n",
    "    and item.\"baseCurrency\" = 'SGD'\n",
    "    and item.\"isHiddenFromSearchEngine\" = false\n",
    "\"\"\")\n",
    "stats[\"category\"][\"distinct_categories\"] = distinct_categories[0][\"distinct_cat_count\"]\n",
    "\n",
    "\n",
    "stats"
   ]
  },
  {
   "cell_type": "code",
   "execution_count": null,
   "id": "57b43b5e",
   "metadata": {},
   "outputs": [
    {
     "data": {
      "text/html": [
       "<div>\n",
       "<style scoped>\n",
       "    .dataframe tbody tr th:only-of-type {\n",
       "        vertical-align: middle;\n",
       "    }\n",
       "\n",
       "    .dataframe tbody tr th {\n",
       "        vertical-align: top;\n",
       "    }\n",
       "\n",
       "    .dataframe thead th {\n",
       "        text-align: right;\n",
       "    }\n",
       "</style>\n",
       "<table border=\"1\" class=\"dataframe\">\n",
       "  <thead>\n",
       "    <tr style=\"text-align: right;\">\n",
       "      <th></th>\n",
       "      <th>all_items_count</th>\n",
       "      <th>product_specification</th>\n",
       "      <th>brand</th>\n",
       "      <th>model_number</th>\n",
       "      <th>category</th>\n",
       "      <th>category_coverage</th>\n",
       "    </tr>\n",
       "  </thead>\n",
       "  <tbody>\n",
       "    <tr>\n",
       "      <th>products_w_specification_count</th>\n",
       "      <td>354945</td>\n",
       "      <td>158385.000000</td>\n",
       "      <td>NaN</td>\n",
       "      <td>NaN</td>\n",
       "      <td>NaN</td>\n",
       "      <td>100.0</td>\n",
       "    </tr>\n",
       "    <tr>\n",
       "      <th>specs_coverage</th>\n",
       "      <td>354945</td>\n",
       "      <td>44.622406</td>\n",
       "      <td>NaN</td>\n",
       "      <td>NaN</td>\n",
       "      <td>NaN</td>\n",
       "      <td>100.0</td>\n",
       "    </tr>\n",
       "    <tr>\n",
       "      <th>distinct_specifications</th>\n",
       "      <td>354945</td>\n",
       "      <td>3776.000000</td>\n",
       "      <td>NaN</td>\n",
       "      <td>NaN</td>\n",
       "      <td>NaN</td>\n",
       "      <td>100.0</td>\n",
       "    </tr>\n",
       "    <tr>\n",
       "      <th>products_w_brand_count</th>\n",
       "      <td>354945</td>\n",
       "      <td>NaN</td>\n",
       "      <td>354944.0</td>\n",
       "      <td>NaN</td>\n",
       "      <td>NaN</td>\n",
       "      <td>100.0</td>\n",
       "    </tr>\n",
       "    <tr>\n",
       "      <th>distinct_brands</th>\n",
       "      <td>354945</td>\n",
       "      <td>NaN</td>\n",
       "      <td>3105.0</td>\n",
       "      <td>NaN</td>\n",
       "      <td>NaN</td>\n",
       "      <td>100.0</td>\n",
       "    </tr>\n",
       "  </tbody>\n",
       "</table>\n",
       "</div>"
      ],
      "text/plain": [
       "                                all_items_count  product_specification  \\\n",
       "products_w_specification_count           354945          158385.000000   \n",
       "specs_coverage                           354945              44.622406   \n",
       "distinct_specifications                  354945            3776.000000   \n",
       "products_w_brand_count                   354945                    NaN   \n",
       "distinct_brands                          354945                    NaN   \n",
       "\n",
       "                                   brand  model_number  category  \\\n",
       "products_w_specification_count       NaN           NaN       NaN   \n",
       "specs_coverage                       NaN           NaN       NaN   \n",
       "distinct_specifications              NaN           NaN       NaN   \n",
       "products_w_brand_count          354944.0           NaN       NaN   \n",
       "distinct_brands                   3105.0           NaN       NaN   \n",
       "\n",
       "                                category_coverage  \n",
       "products_w_specification_count              100.0  \n",
       "specs_coverage                              100.0  \n",
       "distinct_specifications                     100.0  \n",
       "products_w_brand_count                      100.0  \n",
       "distinct_brands                             100.0  "
      ]
     },
     "execution_count": 13,
     "metadata": {},
     "output_type": "execute_result"
    }
   ],
   "source": []
  }
 ],
 "metadata": {
  "kernelspec": {
   "display_name": "venv",
   "language": "python",
   "name": "python3"
  },
  "language_info": {
   "codemirror_mode": {
    "name": "ipython",
    "version": 3
   },
   "file_extension": ".py",
   "mimetype": "text/x-python",
   "name": "python",
   "nbconvert_exporter": "python",
   "pygments_lexer": "ipython3",
   "version": "3.10.14"
  }
 },
 "nbformat": 4,
 "nbformat_minor": 5
}
